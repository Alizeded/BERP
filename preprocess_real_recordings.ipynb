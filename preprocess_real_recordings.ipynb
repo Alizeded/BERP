{
 "cells": [
  {
   "cell_type": "code",
   "execution_count": 2,
   "metadata": {},
   "outputs": [],
   "source": [
    "import pandas as pd  # type: ignore\n",
    "import torch  # type: ignore\n",
    "\n",
    "from src.utils.unitary_linear_norm import unitary_norm"
   ]
  },
  {
   "cell_type": "code",
   "execution_count": 269,
   "metadata": {},
   "outputs": [],
   "source": [
    "# normalize the RAPs\n",
    "# read the manifest file\n",
    "\n",
    "train_manifest = pd.read_csv(\"./data/noiseReverbSpeech/train_manifest_alt.csv\")\n",
    "test_manifest = pd.read_csv(\"./data/noiseReverbSpeech/test_manifest_alt.csv\")\n",
    "val_manifest = pd.read_csv(\"./data/noiseReverbSpeech/val_manifest_alt.csv\")\n",
    "\n",
    "# concat the dataframes\n",
    "manifest = pd.concat([train_manifest, test_manifest, val_manifest])"
   ]
  },
  {
   "cell_type": "code",
   "execution_count": 270,
   "metadata": {},
   "outputs": [],
   "source": [
    "train_manifest.insert(33, \"real_recording\", 0)\n",
    "val_manifest.insert(33, \"real_recording\", 0)\n",
    "test_manifest.insert(33, \"real_recording\", 0)"
   ]
  },
  {
   "cell_type": "code",
   "execution_count": 272,
   "metadata": {},
   "outputs": [],
   "source": [
    "train_manifest.to_csv(\"./data/noiseReverbSpeech/train_manifest_alt.csv\", index=False)\n",
    "test_manifest.to_csv(\"./data/noiseReverbSpeech/test_manifest_alt.csv\", index=False)\n",
    "val_manifest.to_csv(\"./data/noiseReverbSpeech/val_manifest_alt.csv\", index=False)"
   ]
  },
  {
   "cell_type": "code",
   "execution_count": 198,
   "metadata": {},
   "outputs": [
    {
     "data": {
      "text/plain": [
       "array([0.6012, 0.5125, 0.874 , ..., 0.5334, 0.7469, 0.5954])"
      ]
     },
     "execution_count": 198,
     "metadata": {},
     "output_type": "execute_result"
    }
   ],
   "source": [
    "manifest[\"STI\"].to_numpy()"
   ]
  },
  {
   "cell_type": "code",
   "execution_count": 199,
   "metadata": {},
   "outputs": [
    {
     "name": "stdout",
     "output_type": "stream",
     "text": [
      "upper bound of sti:  0.8843 lower bound of sti:  0.2729\n",
      "upper bound of alcons:  38.8632 lower bound of alcons:  1.4143\n",
      "upper bound of t60:  7.958 lower bound of t60:  0.188\n",
      "upper bound of edt:  6.489 lower bound of edt:  0.016\n",
      "upper bound of c80:  25.5543 lower bound of c80:  -5.9572\n",
      "upper bound of c50:  21.8961 lower bound of c50:  -8.4706\n",
      "upper bound of d50:  0.9936 lower bound of d50:  0.1245\n",
      "upper bound of ts:  0.4452 lower bound of ts:  0.0034\n",
      "upper bound of volume:  3.954 lower bound of volume:  1.505\n",
      "upper bound of dist_src:  28.35 lower bound of dist_src:  0.191\n",
      "standard deviation of t60:  0.2231 \n",
      " standard deviation of volume_log10:  0.67741 \n",
      "standard deviation of dist_src:  6.29148\n"
     ]
    }
   ],
   "source": [
    "sti = manifest[\"STI\"].to_numpy()\n",
    "alcons = manifest[\"ALCONS\"].to_numpy()\n",
    "t60 = manifest[\"T60\"].to_numpy()\n",
    "edt = manifest[\"EDT\"].to_numpy()\n",
    "c80 = manifest[\"C80\"].to_numpy()\n",
    "c50 = manifest[\"C50\"].to_numpy()\n",
    "d50 = manifest[\"D50\"].to_numpy().round(decimals=4)\n",
    "ts = manifest[\"TS\"].to_numpy()\n",
    "\n",
    "volume = manifest[\"volume\"].to_numpy()\n",
    "volume_log10 = manifest[\"volume_log10\"].to_numpy()\n",
    "dist_src = manifest[\"distRcv\"].to_numpy()\n",
    "Th = manifest[\"Th\"].to_numpy()\n",
    "Tt = manifest[\"Tt\"].to_numpy()\n",
    "\n",
    "\n",
    "sti_norm = unitary_norm(torch.from_numpy(sti)).round(decimals=4).numpy()\n",
    "alcons_norm = unitary_norm(torch.from_numpy(alcons)).round(decimals=4).numpy()\n",
    "t60_norm = unitary_norm(torch.from_numpy(t60)).round(decimals=4).numpy()\n",
    "edt_norm = unitary_norm(torch.from_numpy(edt)).round(decimals=4).numpy()\n",
    "c80_norm = unitary_norm(torch.from_numpy(c80)).round(decimals=4).numpy()\n",
    "c50_norm = unitary_norm(torch.from_numpy(c50)).round(decimals=4).numpy()\n",
    "d50_norm = unitary_norm(torch.from_numpy(d50)).round(decimals=4).numpy()\n",
    "ts_norm = unitary_norm(torch.from_numpy(ts)).round(decimals=4).numpy()\n",
    "\n",
    "t60_std = torch.std(torch.from_numpy(t60_norm)).round(decimals=4).numpy()\n",
    "volume_std = torch.std(torch.from_numpy(volume)).round(decimals=0).numpy()\n",
    "dist_src_std = torch.std(torch.from_numpy(dist_src)).round(decimals=5).numpy()\n",
    "volume_log10_std = torch.std(torch.from_numpy(volume_log10)).round(decimals=5).numpy()\n",
    "Th_std = torch.std(torch.from_numpy(Th)).round(decimals=5).numpy()\n",
    "Tt_std = torch.std(torch.from_numpy(Tt)).round(decimals=5).numpy()\n",
    "\n",
    "\n",
    "print(\n",
    "    \"upper bound of sti: \",\n",
    "    sti.max(),\n",
    "    \"lower bound of sti: \",\n",
    "    sti.min(),\n",
    ")\n",
    "print(\n",
    "    \"upper bound of alcons: \",\n",
    "    alcons.max(),\n",
    "    \"lower bound of alcons: \",\n",
    "    alcons.min(),\n",
    ")\n",
    "print(\n",
    "    \"upper bound of t60: \",\n",
    "    t60.max(),\n",
    "    \"lower bound of t60: \",\n",
    "    t60.min(),\n",
    ")\n",
    "print(\n",
    "    \"upper bound of edt: \",\n",
    "    edt.max(),\n",
    "    \"lower bound of edt: \",\n",
    "    edt.min(),\n",
    ")\n",
    "print(\n",
    "    \"upper bound of c80: \",\n",
    "    c80.max(),\n",
    "    \"lower bound of c80: \",\n",
    "    c80.min(),\n",
    ")\n",
    "print(\n",
    "    \"upper bound of c50: \",\n",
    "    c50.max(),\n",
    "    \"lower bound of c50: \",\n",
    "    c50.min(),\n",
    ")\n",
    "print(\n",
    "    \"upper bound of d50: \",\n",
    "    d50.max(),\n",
    "    \"lower bound of d50: \",\n",
    "    d50.min(),\n",
    ")\n",
    "print(\n",
    "    \"upper bound of ts: \",\n",
    "    ts.max(),\n",
    "    \"lower bound of ts: \",\n",
    "    ts.min(),\n",
    ")\n",
    "print(\n",
    "    \"upper bound of volume: \",\n",
    "    volume_log10.max(),\n",
    "    \"lower bound of volume: \",\n",
    "    volume_log10.min(),\n",
    ")\n",
    "print(\n",
    "    \"upper bound of dist_src: \",\n",
    "    dist_src.max(),\n",
    "    \"lower bound of dist_src: \",\n",
    "    dist_src.min(),\n",
    ")\n",
    "\n",
    "\n",
    "print(\n",
    "    \"standard deviation of t60: \",\n",
    "    t60_std,\n",
    "    \"\\n standard deviation of volume_log10: \",\n",
    "    volume_log10_std,\n",
    "    \"\\nstandard deviation of dist_src: \",\n",
    "    dist_src_std,\n",
    ")"
   ]
  },
  {
   "cell_type": "code",
   "execution_count": 195,
   "metadata": {},
   "outputs": [
    {
     "name": "stdout",
     "output_type": "stream",
     "text": [
      "mean of Tt:  1.73133 \n",
      " standard deviation of Tt:  1.73343\n"
     ]
    }
   ],
   "source": [
    "Tt_mu = torch.mean(torch.from_numpy(Tt)).round(decimals=5).numpy()\n",
    "Tt_std = torch.std(torch.from_numpy(Tt)).round(decimals=5).numpy()\n",
    "print(\"mean of Tt: \", Tt_mu, \"\\n standard deviation of Tt: \", Tt_std)"
   ]
  },
  {
   "cell_type": "code",
   "execution_count": 301,
   "metadata": {},
   "outputs": [
    {
     "name": "stdout",
     "output_type": "stream",
     "text": [
      "upper bound of sti_real:  0.8849 lower bound of sti_real:  0.2997\n",
      "upper bound of alcons_real:  33.6024 lower bound of alcons_real:  1.4101\n",
      "upper bound of t60_real:  2.903 lower bound of t60_real:  0.185\n",
      "upper bound of edt_real:  3.794 lower bound of edt_real:  0.016\n",
      "upper bound of c80_real:  25.7361 lower bound of c80_real:  -4.7571\n",
      "upper bound of c50_real:  22.0103 lower bound of c50_real:  -7.3502\n",
      "upper bound of d50_real:  0.9937 lower bound of d50_real:  0.1555\n",
      "upper bound of ts_real:  0.3507 lower bound of ts_real:  0.0034\n",
      "upper bound of volume_real:  3.432 lower bound of volume_real:  1.993\n",
      "upper bound of dist_src_real:  16.1 lower bound of dist_src_real:  0.604\n"
     ]
    }
   ],
   "source": [
    "# read real recordings manifest\n",
    "train_real_manifest = pd.read_csv(\n",
    "    \"./data/BUT_real_recording_11160samples/real_audio.metadata/train_manifest.csv\"\n",
    ")\n",
    "val_real_manifest = pd.read_csv(\n",
    "    \"./data/BUT_real_recording_11160samples/real_audio.metadata/val_manifest.csv\"\n",
    ")\n",
    "test_real_manifest = pd.read_csv(\n",
    "    \"./data/BUT_real_recording_11160samples/real_audio.metadata/test_manifest.csv\"\n",
    ")\n",
    "\n",
    "# concat the real dataframes with the manifest\n",
    "real_manifest = pd.concat([train_real_manifest, val_real_manifest, test_real_manifest])\n",
    "\n",
    "# investigate the upper and lower bounds of the real data\n",
    "sti_real = real_manifest[\"STI\"].to_numpy()\n",
    "alcons_real = real_manifest[\"ALCONS\"].to_numpy()\n",
    "t60_real = real_manifest[\"T60\"].to_numpy()\n",
    "edt_real = real_manifest[\"EDT\"].to_numpy()\n",
    "c80_real = real_manifest[\"C80\"].to_numpy()\n",
    "c50_real = real_manifest[\"C50\"].to_numpy()\n",
    "d50_real = real_manifest[\"D50\"].to_numpy().round(decimals=4)\n",
    "ts_real = real_manifest[\"TS\"].to_numpy()\n",
    "volume_real = real_manifest[\"volume_log10\"].to_numpy()\n",
    "dist_src_real = real_manifest[\"distRcv\"].to_numpy()\n",
    "Th_real = real_manifest[\"Th\"].to_numpy()\n",
    "\n",
    "print(\n",
    "    \"upper bound of sti_real: \",\n",
    "    sti_real.max(),\n",
    "    \"lower bound of sti_real: \",\n",
    "    sti_real.min(),\n",
    ")\n",
    "\n",
    "print(\n",
    "    \"upper bound of alcons_real: \",\n",
    "    alcons_real.max(),\n",
    "    \"lower bound of alcons_real: \",\n",
    "    alcons_real.min(),\n",
    ")\n",
    "\n",
    "print(\n",
    "    \"upper bound of t60_real: \",\n",
    "    t60_real.max(),\n",
    "    \"lower bound of t60_real: \",\n",
    "    t60_real.min(),\n",
    ")\n",
    "\n",
    "print(\n",
    "    \"upper bound of edt_real: \",\n",
    "    edt_real.max(),\n",
    "    \"lower bound of edt_real: \",\n",
    "    edt_real.min(),\n",
    ")\n",
    "\n",
    "print(\n",
    "    \"upper bound of c80_real: \",\n",
    "    c80_real.max(),\n",
    "    \"lower bound of c80_real: \",\n",
    "    c80_real.min(),\n",
    ")\n",
    "\n",
    "print(\n",
    "    \"upper bound of c50_real: \",\n",
    "    c50_real.max(),\n",
    "    \"lower bound of c50_real: \",\n",
    "    c50_real.min(),\n",
    ")\n",
    "\n",
    "print(\n",
    "    \"upper bound of d50_real: \",\n",
    "    d50_real.max(),\n",
    "    \"lower bound of d50_real: \",\n",
    "    d50_real.min(),\n",
    ")\n",
    "\n",
    "print(\n",
    "    \"upper bound of ts_real: \",\n",
    "    ts_real.max(),\n",
    "    \"lower bound of ts_real: \",\n",
    "    ts_real.min(),\n",
    ")\n",
    "\n",
    "print(\n",
    "    \"upper bound of volume_real: \",\n",
    "    volume_real.max(),\n",
    "    \"lower bound of volume_real: \",\n",
    "    volume_real.min(),\n",
    ")\n",
    "\n",
    "print(\n",
    "    \"upper bound of dist_src_real: \",\n",
    "    dist_src_real.max(),\n",
    "    \"lower bound of dist_src_real: \",\n",
    "    dist_src_real.min(),\n",
    ")"
   ]
  },
  {
   "cell_type": "code",
   "execution_count": 302,
   "metadata": {},
   "outputs": [],
   "source": [
    "import numpy as np\n",
    "\n",
    "STI_real_train = train_real_manifest[\"STI\"].to_numpy()\n",
    "ALCONS_real_train = train_real_manifest[\"ALCONS\"].to_numpy()\n",
    "T60_real_train = train_real_manifest[\"T60\"].to_numpy()\n",
    "EDT_real_train = train_real_manifest[\"EDT\"].to_numpy()\n",
    "C80_real_train = train_real_manifest[\"C80\"].to_numpy()\n",
    "C50_real_train = train_real_manifest[\"C50\"].to_numpy()\n",
    "D50_real_train = train_real_manifest[\"D50\"].to_numpy().round(decimals=4)\n",
    "TS_real_train = train_real_manifest[\"TS\"].to_numpy()\n",
    "dist_src_real_train = train_real_manifest[\"distRcv\"].to_numpy()\n",
    "\n",
    "STI_real_val = val_real_manifest[\"STI\"].to_numpy()\n",
    "ALCONS_real_val = val_real_manifest[\"ALCONS\"].to_numpy()\n",
    "T60_real_val = val_real_manifest[\"T60\"].to_numpy()\n",
    "EDT_real_val = val_real_manifest[\"EDT\"].to_numpy()\n",
    "C80_real_val = val_real_manifest[\"C80\"].to_numpy()\n",
    "C50_real_val = val_real_manifest[\"C50\"].to_numpy()\n",
    "D50_real_val = val_real_manifest[\"D50\"].to_numpy().round(decimals=4)\n",
    "TS_real_val = val_real_manifest[\"TS\"].to_numpy()\n",
    "dist_src_real_val = val_real_manifest[\"distRcv\"].to_numpy()\n",
    "\n",
    "STI_real_test = test_real_manifest[\"STI\"].to_numpy()\n",
    "ALCONS_real_test = test_real_manifest[\"ALCONS\"].to_numpy()\n",
    "T60_real_test = test_real_manifest[\"T60\"].to_numpy()\n",
    "EDT_real_test = test_real_manifest[\"EDT\"].to_numpy()\n",
    "C80_real_test = test_real_manifest[\"C80\"].to_numpy()\n",
    "C50_real_test = test_real_manifest[\"C50\"].to_numpy()\n",
    "D50_real_test = test_real_manifest[\"D50\"].to_numpy().round(decimals=4)\n",
    "TS_real_test = test_real_manifest[\"TS\"].to_numpy()\n",
    "dist_src_real_test = test_real_manifest[\"distRcv\"].to_numpy()\n",
    "\n",
    "norm_ts = lambda x: np.round((x - 0.0034) / (0.4452 - 0.0034), 4)  # noqa: E731\n",
    "norm_dist_src = lambda x: np.round((x - 0.191) / (28.35 - 0.191), 4)  # noqa: E731\n",
    "ts_norm_train = norm_ts(TS_real_train)\n",
    "ts_norm_val = norm_ts(TS_real_val)\n",
    "ts_norm_test = norm_ts(TS_real_test)\n",
    "\n",
    "dist_src_norm_train = norm_dist_src(dist_src_real_train)\n",
    "dist_src_norm_val = norm_dist_src(dist_src_real_val)\n",
    "dist_src_norm_test = norm_dist_src(dist_src_real_test)"
   ]
  },
  {
   "cell_type": "code",
   "execution_count": 303,
   "metadata": {},
   "outputs": [],
   "source": [
    "# insert the normalized values into the dataframes\n",
    "train_real_manifest.insert(21, \"TS_norm\", ts_norm_train)\n",
    "train_real_manifest.insert(22, \"dist_src_norm\", dist_src_norm_train)\n",
    "\n",
    "val_real_manifest.insert(21, \"TS_norm\", ts_norm_val)\n",
    "val_real_manifest.insert(22, \"dist_src_norm\", dist_src_norm_val)\n",
    "\n",
    "test_real_manifest.insert(21, \"TS_norm\", ts_norm_test)\n",
    "test_real_manifest.insert(22, \"dist_src_norm\", dist_src_norm_test)"
   ]
  },
  {
   "cell_type": "code",
   "execution_count": 307,
   "metadata": {},
   "outputs": [],
   "source": [
    "train_real_manifest.insert(23, \"real_recording\", 1)\n",
    "val_real_manifest.insert(23, \"real_recording\", 1)\n",
    "test_real_manifest.insert(23, \"real_recording\", 1)"
   ]
  },
  {
   "cell_type": "code",
   "execution_count": 309,
   "metadata": {},
   "outputs": [],
   "source": [
    "# update the manifest files\n",
    "train_real_manifest.to_csv(\n",
    "    \"./data/BUT_real_recording_11160samples/real_audio.metadata/train_manifest.csv\",\n",
    "    index=False,\n",
    ")\n",
    "val_real_manifest.to_csv(\n",
    "    \"./data/BUT_real_recording_11160samples/real_audio.metadata/val_manifest.csv\",\n",
    "    index=False,\n",
    ")\n",
    "test_real_manifest.to_csv(\n",
    "    \"./data/BUT_real_recording_11160samples/real_audio.metadata/test_manifest.csv\",\n",
    "    index=False,\n",
    ")"
   ]
  },
  {
   "cell_type": "code",
   "execution_count": null,
   "metadata": {},
   "outputs": [],
   "source": [
    "# plot the histograms\n",
    "import matplotlib.pyplot as plt\n",
    "import seaborn as sns\n",
    "\n",
    "fig, ax = plt.subplots()\n",
    "plt.rcParams[\"font.family\"] = \"serif\"\n",
    "sns.histplot(sti, bins=50, color=\"blue\", ax=ax)\n",
    "ax.set_title(\"STI distribution\")\n",
    "ax.set_xlabel(\"STI\")\n",
    "ax.set_ylabel(\"Number of samples\")\n",
    "plt.show()"
   ]
  },
  {
   "cell_type": "code",
   "execution_count": null,
   "metadata": {},
   "outputs": [],
   "source": [
    "# plot the histograms\n",
    "fig, ax = plt.subplots()\n",
    "plt.rcParams[\"font.family\"] = \"serif\"\n",
    "sns.histplot(alcons, bins=50, color=\"blue\", ax=ax)\n",
    "ax.set_title(\"ALCONS distribution\")\n",
    "ax.set_xlabel(\"ALCONS\")\n",
    "ax.set_ylabel(\"Number of samples\")\n",
    "plt.show()"
   ]
  },
  {
   "cell_type": "code",
   "execution_count": null,
   "metadata": {},
   "outputs": [],
   "source": [
    "# plot the histograms\n",
    "fig, ax = plt.subplots()\n",
    "plt.rcParams[\"font.family\"] = \"serif\"\n",
    "sns.histplot(t60, bins=50, color=\"blue\", ax=ax)\n",
    "ax.set_title(\"T60 distribution\")\n",
    "ax.set_xlabel(\"T60\")\n",
    "ax.set_ylabel(\"Number of samples\")\n",
    "plt.show()"
   ]
  },
  {
   "cell_type": "code",
   "execution_count": null,
   "metadata": {},
   "outputs": [],
   "source": [
    "# plot the histograms\n",
    "fig, ax = plt.subplots()\n",
    "plt.rcParams[\"font.family\"] = \"serif\"\n",
    "sns.histplot(edt, bins=50, color=\"blue\", ax=ax)\n",
    "ax.set_title(\"EDT distribution\")\n",
    "ax.set_xlabel(\"EDT\")\n",
    "ax.set_ylabel(\"Number of samples\")\n",
    "plt.show()"
   ]
  },
  {
   "cell_type": "code",
   "execution_count": null,
   "metadata": {},
   "outputs": [],
   "source": [
    "# plot the histograms\n",
    "fig, ax = plt.subplots()\n",
    "plt.rcParams[\"font.family\"] = \"serif\"\n",
    "sns.histplot(c80, bins=50, color=\"blue\", ax=ax)\n",
    "ax.set_title(\"C80 distribution\")\n",
    "ax.set_xlabel(\"C80\")\n",
    "ax.set_ylabel(\"Number of samples\")\n",
    "plt.show()"
   ]
  },
  {
   "cell_type": "code",
   "execution_count": null,
   "metadata": {},
   "outputs": [],
   "source": [
    "# plot the histograms\n",
    "fig, ax = plt.subplots()\n",
    "plt.rcParams[\"font.family\"] = \"serif\"\n",
    "sns.histplot(c50, bins=50, color=\"blue\", ax=ax)\n",
    "ax.set_title(\"C50 distribution\")\n",
    "ax.set_xlabel(\"C50\")\n",
    "ax.set_ylabel(\"Number of samples\")\n",
    "plt.show()"
   ]
  },
  {
   "cell_type": "code",
   "execution_count": null,
   "metadata": {},
   "outputs": [],
   "source": [
    "# plot the histograms\n",
    "fig, ax = plt.subplots()\n",
    "plt.rcParams[\"font.family\"] = \"serif\"\n",
    "sns.histplot(d50, bins=50, color=\"blue\", ax=ax)\n",
    "ax.set_title(\"D50 distribution\")\n",
    "ax.set_xlabel(\"D50\")\n",
    "ax.set_ylabel(\"Number of samples\")\n",
    "plt.show()"
   ]
  },
  {
   "cell_type": "code",
   "execution_count": null,
   "metadata": {},
   "outputs": [],
   "source": [
    "# plot the histograms\n",
    "fig, ax = plt.subplots()\n",
    "plt.rcParams[\"font.family\"] = \"serif\"\n",
    "sns.histplot(ts, bins=50, color=\"blue\", ax=ax)\n",
    "ax.set_title(\"Ts distribution\")\n",
    "ax.set_xlabel(\"Ts\")\n",
    "ax.set_ylabel(\"Number of samples\")\n",
    "plt.show()"
   ]
  },
  {
   "cell_type": "code",
   "execution_count": 206,
   "metadata": {},
   "outputs": [],
   "source": [
    "# insert the normalized values into the manifest\n",
    "manifest.insert(23, \"STI_norm\", sti_norm)\n",
    "manifest.insert(24, \"ALCONS_norm\", alcons_norm)\n",
    "manifest.insert(25, \"T60_norm\", t60_norm)\n",
    "manifest.insert(26, \"EDT_norm\", edt_norm)\n",
    "manifest.insert(27, \"C80_norm\", c80_norm)\n",
    "manifest.insert(28, \"C50_norm\", c50_norm)\n",
    "manifest.insert(29, \"D50_norm\", d50_norm)\n",
    "manifest.insert(30, \"TS_norm\", ts_norm)"
   ]
  },
  {
   "cell_type": "code",
   "execution_count": 208,
   "metadata": {},
   "outputs": [],
   "source": [
    "# split again the manifest into train, test and val\n",
    "train_manifest_ = manifest[: len(train_manifest)]\n",
    "test_manifest_ = manifest[\n",
    "    len(train_manifest) : len(train_manifest) + len(test_manifest)\n",
    "]\n",
    "val_manifest_ = manifest[len(train_manifest) + len(test_manifest) :]"
   ]
  },
  {
   "cell_type": "code",
   "execution_count": 209,
   "metadata": {},
   "outputs": [],
   "source": [
    "train_manifest_.to_csv(\"./data/noiseReverbSpeech/train_manifest_alt.csv\", index=False)"
   ]
  },
  {
   "cell_type": "code",
   "execution_count": 210,
   "metadata": {},
   "outputs": [],
   "source": [
    "test_manifest_.to_csv(\"./data/noiseReverbSpeech/test_manifest_alt.csv\", index=False)"
   ]
  },
  {
   "cell_type": "code",
   "execution_count": 211,
   "metadata": {},
   "outputs": [],
   "source": [
    "val_manifest_.to_csv(\"./data/noiseReverbSpeech/val_manifest_alt.csv\", index=False)"
   ]
  },
  {
   "cell_type": "code",
   "execution_count": 188,
   "metadata": {},
   "outputs": [],
   "source": [
    "# get the real-recorded data path list\n",
    "import os\n",
    "from pathlib import Path\n",
    "\n",
    "real_recording_path = \"/home/lucianius/Data/Datasets/Librispeech_test_clean_retransmission/VUT_FIT_D105/MicID01/SpkID07_20170904_T/01/english/LibriSpeech/test-clean/\"\n",
    "librispeech_folder = Path(real_recording_path)\n",
    "extension = \".wav\"\n",
    "matching_files = librispeech_folder.rglob(f\"*{extension}\")\n",
    "matching_files = [str(x) for x in matching_files]\n",
    "# sort the files\n",
    "matching_files.sort()"
   ]
  },
  {
   "cell_type": "code",
   "execution_count": 190,
   "metadata": {},
   "outputs": [],
   "source": [
    "import random\n",
    "\n",
    "from src.preprocessing.RIRutils import checkfolder_BUT"
   ]
  },
  {
   "cell_type": "code",
   "execution_count": null,
   "metadata": {},
   "outputs": [],
   "source": [
    "path_retrans = \"/home/lucianius/Data/Datasets/Librispeech_test_clean_retransmission\"\n",
    "path_rir = \"/home/lucianius/Data/Datasets/BUT_ReverbDB\"\n",
    "num_files = 10\n",
    "j = 0\n",
    "n = 0\n",
    "folderNos = [4, 6, 7, 8, 9]\n",
    "ThTtDistRcvOriSrc_label = []\n",
    "random.seed(3407)\n",
    "for folderNo in folderNos:\n",
    "    print(\"Processing folder \" + str(folderNo) + \"...\")\n",
    "    path_ = path_retrans + checkfolder_BUT(folderNo)\n",
    "    lst = os.listdir(path_)\n",
    "    lst.sort()\n",
    "    path = path_rir + checkfolder_BUT(folderNo)\n",
    "    for foldername in lst:\n",
    "        if foldername.startswith(\"SpkID\"):\n",
    "            print(\"Processing speaker \" + foldername + \"...\")\n",
    "            for i in range(1, 32):\n",
    "                retransed_path = os.path.join(\n",
    "                    path_,\n",
    "                    foldername,\n",
    "                    str(i).zfill(2),\n",
    "                    \"english/LibriSpeech/test-clean/\",\n",
    "                )\n",
    "                librispeech_folder = Path(retransed_path)\n",
    "                extension = \".wav\"\n",
    "                matching_files = librispeech_folder.rglob(f\"*{extension}\")\n",
    "                matching_files = [str(x) for x in matching_files]\n",
    "                # sort the files\n",
    "                matching_files.sort()\n",
    "                # randomly choose some audio file\n",
    "                # real_audio_paths = random.sample(matching_files, num_files)\n",
    "\n",
    "                real_audio_paths = matching_files[j * num_files : (j + 1) * num_files]\n",
    "                if len(real_audio_paths) < num_files:\n",
    "                    # handle the last batch\n",
    "                    real_audio_paths = random.sample(matching_files, num_files)\n",
    "                print(real_audio_paths)\n",
    "                j += 1"
   ]
  }
 ],
 "metadata": {
  "kernelspec": {
   "display_name": "acoustic-toolkit",
   "language": "python",
   "name": "python3"
  },
  "language_info": {
   "codemirror_mode": {
    "name": "ipython",
    "version": 3
   },
   "file_extension": ".py",
   "mimetype": "text/x-python",
   "name": "python",
   "nbconvert_exporter": "python",
   "pygments_lexer": "ipython3",
   "version": "3.11.9"
  }
 },
 "nbformat": 4,
 "nbformat_minor": 2
}
